{
 "cells": [
  {
   "cell_type": "markdown",
   "id": "cb0666d0",
   "metadata": {},
   "source": [
    "# Product info data preprocess\n"
   ]
  },
  {
   "cell_type": "markdown",
   "id": "4094bbc3",
   "metadata": {},
   "source": [
    "## 1. Imports"
   ]
  },
  {
   "cell_type": "code",
   "execution_count": 21,
   "id": "1b4da1e3",
   "metadata": {},
   "outputs": [],
   "source": [
    "import pandas as pd\n",
    "import ast"
   ]
  },
  {
   "cell_type": "markdown",
   "id": "8d2d0eda",
   "metadata": {},
   "source": [
    "## 2. Clean data, drop columns that will not be used"
   ]
  },
  {
   "cell_type": "code",
   "execution_count": 22,
   "id": "7e283239",
   "metadata": {},
   "outputs": [
    {
     "name": "stdout",
     "output_type": "stream",
     "text": [
      "Dropped columns: ['variation_desc', 'value_price_usd', 'sale_price_usd', 'child_max_price', 'child_min_price', 'online_only', 'limited_edition', 'out_of_stock', 'sephora_exclusive', 'size', 'variation_type', 'variation_value']\n"
     ]
    }
   ],
   "source": [
    "df_product_info = pd.read_csv('data/product_info.csv')\n",
    "missing_percent = df_product_info.isnull().mean()\n",
    "cols_to_drop = missing_percent[missing_percent > 0.3].index.tolist() + [\n",
    "    'online_only', 'limited_edition', 'out_of_stock', 'sephora_exclusive',\n",
    "    'size', 'variation_type', 'variation_value'\n",
    "]\n",
    "df_product_info = df_product_info.drop(columns=cols_to_drop)\n",
    "print(f\"Dropped columns: {list(cols_to_drop)}\")"
   ]
  },
  {
   "cell_type": "markdown",
   "id": "f350f5c6",
   "metadata": {},
   "source": [
    "## 3. Normalize the ingredients"
   ]
  },
  {
   "cell_type": "code",
   "execution_count": 23,
   "id": "265c7def",
   "metadata": {},
   "outputs": [],
   "source": [
    "def clean_ingredient_entry(entry):\n",
    "    try:\n",
    "        items = ast.literal_eval(entry) if isinstance(entry, str) else entry\n",
    "        if not isinstance(items, list):\n",
    "            return \"\"\n",
    "\n",
    "        all_ingredients = []\n",
    "\n",
    "        for item in items:\n",
    "            if ',' not in item and ':' in item:\n",
    "                continue\n",
    "\n",
    "            split_ings = [ing.strip().rstrip('.') for ing in item.split(',')]\n",
    "            all_ingredients.extend(split_ings)\n",
    "\n",
    "        unique_ingredients = sorted(set(all_ingredients))\n",
    "        return ', '.join(unique_ingredients)\n",
    "\n",
    "    except Exception as e:\n",
    "        print(f\"Error parsing ingredients: {e}\")\n",
    "        return \"\"\n",
    "    \n",
    "df_product_info['ingredients'] = df_product_info['ingredients'].apply(clean_ingredient_entry)\n"
   ]
  },
  {
   "cell_type": "code",
   "execution_count": 24,
   "id": "e1713746",
   "metadata": {},
   "outputs": [
    {
     "name": "stdout",
     "output_type": "stream",
     "text": [
      "   product_id                                       product_name  brand_id  \\\n",
      "14    P476416  AFRICAN Beauty Butter- Intensive Dry Skin Trea...      6471   \n",
      "15    P476418   African Beauty Butter Mini Gift Set (54 Thrones)      6471   \n",
      "16    P476417  African Beauty Butter Collection Deluxe Tin (5...      6471   \n",
      "17    P503832  Mini AFRICAN Beauty Butter- Intensive Dry Skin...      6471   \n",
      "31    P443401  Blu Mediterraneo Mini Eau de Toilette Set (Acq...      5847   \n",
      "\n",
      "        brand_name  loves_count  rating  reviews  \\\n",
      "14      54 Thrones        19028  4.3256    258.0   \n",
      "15      54 Thrones         7526  3.5610     41.0   \n",
      "16      54 Thrones         3741  4.2273     22.0   \n",
      "17      54 Thrones         3392  4.5175    143.0   \n",
      "31  Acqua di Parma         7290  3.3333     12.0   \n",
      "\n",
      "                                          ingredients  price_usd  new  \\\n",
      "14  *Beta-Sitosterol, *Squalane, *Tocopherol (mixe...       38.0    0   \n",
      "15  (Rose Absolute), *Beta-Sitosterol, *Squalane, ...       29.0    0   \n",
      "16  (Rose Absolute), **Squalane, *Beta-Sitosterol,...       80.0    0   \n",
      "17  *Beta-Sitosterol, *Squalane, *Tocopherol (Mixe...       12.0    1   \n",
      "31  Alcohol Denat, Alpha-Isomethyl Ionone, Amyl Ci...       77.0    0   \n",
      "\n",
      "                                           highlights primary_category  \\\n",
      "14  ['Clean at Sephora', 'Hydrating', 'Good for: D...      Bath & Body   \n",
      "15  ['Good for: Dryness', 'Clean at Sephora', 'Hyd...      Bath & Body   \n",
      "16  ['Good for: Dryness', 'Clean at Sephora', 'Hyd...      Bath & Body   \n",
      "17  ['Clean at Sephora', 'Hydrating', 'Good for: D...      Bath & Body   \n",
      "31        ['Unisex/ Genderless Scent', 'Fresh Scent']        Mini Size   \n",
      "\n",
      "   secondary_category         tertiary_category  child_count  \n",
      "14  Body Moisturizers  Body Lotions & Body Oils           10  \n",
      "15  Value & Gift Sets                       NaN            0  \n",
      "16  Value & Gift Sets                       NaN            0  \n",
      "17  Body Moisturizers  Body Lotions & Body Oils            2  \n",
      "31          Fragrance                       NaN            0  \n"
     ]
    },
    {
     "name": "stderr",
     "output_type": "stream",
     "text": [
      "C:\\Users\\MSI\\AppData\\Local\\Temp\\ipykernel_7508\\3823320477.py:2: SettingWithCopyWarning: \n",
      "A value is trying to be set on a copy of a slice from a DataFrame.\n",
      "Try using .loc[row_indexer,col_indexer] = value instead\n",
      "\n",
      "See the caveats in the documentation: https://pandas.pydata.org/pandas-docs/stable/user_guide/indexing.html#returning-a-view-versus-a-copy\n",
      "  product_info_cosmetics['product_name'] = (\n"
     ]
    }
   ],
   "source": [
    "product_info_cosmetics = df_product_info[df_product_info['primary_category'] != 'Fragrance']\n",
    "product_info_cosmetics['product_name'] = (\n",
    "    product_info_cosmetics['product_name'] + \n",
    "    ' (' + product_info_cosmetics['brand_name'] + ')'\n",
    ")\n",
    "\n",
    "print(product_info_cosmetics.head(5))\n"
   ]
  },
  {
   "cell_type": "markdown",
   "id": "9c7919f0",
   "metadata": {},
   "source": [
    "## 4. Save the processed data"
   ]
  },
  {
   "cell_type": "code",
   "execution_count": 25,
   "id": "e7b4077c",
   "metadata": {},
   "outputs": [],
   "source": [
    "product_info_cosmetics.dropna()\n",
    "product_info_cosmetics.to_csv('data/product_info_cosmetics.csv', index=False)"
   ]
  },
  {
   "cell_type": "code",
   "execution_count": 26,
   "id": "d3e01a2b",
   "metadata": {},
   "outputs": [],
   "source": [
    "df_product_info.dropna()\n",
    "df_product_info.to_csv('data/product_info_processed.csv', index=False)"
   ]
  }
 ],
 "metadata": {
  "kernelspec": {
   "display_name": ".venv",
   "language": "python",
   "name": "python3"
  },
  "language_info": {
   "codemirror_mode": {
    "name": "ipython",
    "version": 3
   },
   "file_extension": ".py",
   "mimetype": "text/x-python",
   "name": "python",
   "nbconvert_exporter": "python",
   "pygments_lexer": "ipython3",
   "version": "3.11.9"
  }
 },
 "nbformat": 4,
 "nbformat_minor": 5
}
